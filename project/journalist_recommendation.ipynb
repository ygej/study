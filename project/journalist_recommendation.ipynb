{
 "cells": [
  {
   "cell_type": "markdown",
   "metadata": {},
   "source": [
    "# 📰 참 언론인을 찾아라! 기자 추천하기"
   ]
  },
  {
   "cell_type": "markdown",
   "metadata": {},
   "source": [
    "\"\n",
    "__한국 언론__?\n",
    "\"\n",
    "\n",
    "[__40개국 중 40위…한국 언론 신뢰도 4년째 최하위__](https://www.seoul.co.kr/news/newsView.php?id=20200617500048)\n",
    "\n",
    "```\n",
    "영국 옥스퍼드대학교 부설 로이터저널리즘연구소가 최근 공개한 ‘디지털뉴스리포트 2020’에 따르면 \n",
    "한국인들의 뉴스 신뢰도는 21%로 조사 대상 40개국 중 40위로 나타났다.😭😭😭\n",
    "```\n",
    "\n",
    "---\n",
    "\n",
    "\"\n",
    "__저널리즘을 빛내는, 좋은 글을 쓰는 기자가 1명은 있지 않을까요?__\n",
    "\"\n",
    "```\n",
    "분야별 최고의 기자는? 신문사별 최고의 기자는? 내 취향에 맞는 글을 쓰는 기자는?....\n",
    "\n",
    "```"
   ]
  },
  {
   "cell_type": "markdown",
   "metadata": {},
   "source": [
    "#### VISION\n",
    "__저널리즘을 건강하게 합니다.__\n",
    "```\n",
    "언론이 진실을 보도하면 국민들은 빛 속에서 살 것이고, 권력의 시녀로 전락하면 어둠 속에서 살 것이다.\n",
    "- 김수환 추기경\n",
    "```\n",
    "\n",
    "#### 가설\n",
    "1. 독자들(+ 전문가들)은 기자를 평가하고 추천 받는 것을 1)즐거워한다 2)책임감을 갖는다\n",
    "2. 기자들은 평가를 받고 주목받는 것을 1)즐거워한다 2) 책임감을 갖는다"
   ]
  },
  {
   "cell_type": "markdown",
   "metadata": {},
   "source": [
    "## Import Library (step.01)"
   ]
  },
  {
   "cell_type": "code",
   "execution_count": 1,
   "metadata": {},
   "outputs": [],
   "source": [
    "import pandas as pd\n",
    "import numpy as np\n",
    "import seaborn as sns\n",
    "import matplotlib.pyplot as plt\n",
    "pd.options.display.max_rows=150\n",
    "%matplotlib inline\n",
    "import os\n",
    "import glob\n",
    "\n",
    "# NLP\n",
    "from sklearn.model_selection import train_test_split\n",
    "from sklearn.feature_extraction.text import CountVectorizer\n",
    "from sklearn.feature_extraction.text import TfidfTransformer\n",
    "from sklearn.naive_bayes import MultinomialNB\n",
    "from sklearn import metrics\n",
    "\n",
    "# crawling\n",
    "#from konlpy.tag import Mecab\n",
    "import requests\n",
    "from bs4 import BeautifulSoup"
   ]
  },
  {
   "cell_type": "code",
   "execution_count": 2,
   "metadata": {},
   "outputs": [],
   "source": [
    "url = 'https://media.naver.com/journalist/001/74226'"
   ]
  },
  {
   "cell_type": "markdown",
   "metadata": {},
   "source": [
    "### step.02 crawling\n",
    "1. 반복문으로 기자 프로필 url 리스트 만들기\n",
    "2. 기자별 구독수, 응원수, 30일 평균 작성 기사 수, 대표 섹션, 구독자 통계 수집\n",
    "3. 주간 많이 본 뉴스 기사 추천 수, 반응 [좋아요, 훈훈해요, 슬퍼요, 화나요, 후속기사 원해요] 수집\n",
    "\n",
    "### step.03 EDA\n",
    "1. 신문사별, 섹션별, 기자별 분석\n",
    "2. 기사 내용 기준 유사한 기자\n",
    "\n",
    "### step.04 recommendation\n",
    "1. 섹션별 기자 추천\n",
    "2. 신문사별 기자 추천\n",
    "3. 실시간 주목받는 기자 추천\n",
    "4. 서로 유사한 글 성향의 기자 추천\n",
    "5. 그 외 등등"
   ]
  },
  {
   "cell_type": "code",
   "execution_count": null,
   "metadata": {},
   "outputs": [],
   "source": []
  },
  {
   "cell_type": "code",
   "execution_count": null,
   "metadata": {},
   "outputs": [],
   "source": []
  }
 ],
 "metadata": {
  "kernelspec": {
   "display_name": "Python 3",
   "language": "python",
   "name": "python3"
  },
  "language_info": {
   "codemirror_mode": {
    "name": "ipython",
    "version": 3
   },
   "file_extension": ".py",
   "mimetype": "text/x-python",
   "name": "python",
   "nbconvert_exporter": "python",
   "pygments_lexer": "ipython3",
   "version": "3.8.5"
  }
 },
 "nbformat": 4,
 "nbformat_minor": 4
}
